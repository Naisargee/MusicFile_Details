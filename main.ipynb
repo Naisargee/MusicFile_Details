{
 "cells": [
  {
   "cell_type": "code",
   "execution_count": 168,
   "metadata": {
    "collapsed": false
   },
   "outputs": [],
   "source": [
    "#imports\n",
    "from bs4 import BeautifulSoup\n",
    "import urllib\n",
    "from urllib.request import urlopen\n",
    "\n",
    "import mutagen\n",
    "from mutagen.easyid3 import EasyID3\n",
    "\n",
    "import os\n",
    "import re\n",
    "\n",
    "dir_path=\"/home/naisargee/Music/W300i/practice/\"\n",
    "change_count=0\n",
    "change_files=[]"
   ]
  },
  {
   "cell_type": "code",
   "execution_count": 169,
   "metadata": {
    "collapsed": true
   },
   "outputs": [],
   "source": [
    "regex = re.compile('[^a-zA-Z]')\n",
    "def search_term_from_file(file):\n",
    "    print(\"search Term :\",regex.sub(' ', file[:-3]))\n",
    "    return regex.sub(' ', file[:-3]).strip()\n",
    "\n",
    "    \n",
    "def google_output_string(file):\n",
    "    song=search_term_from_file(file)\n",
    "    url = 'https://www.google.com/search?q='+song.replace(\" \",\"+\")\n",
    "    headers = {}\n",
    "    headers['User-Agent'] = \"Mozilla/5.0 (X11; Linux i686) AppleWebKit/537.17 (KHTML, like Gecko) Chrome/24.0.1312.27 Safari/537.17\"\n",
    "    req = urllib.request.Request(url, headers = headers)\n",
    "    resp = urllib.request.urlopen(req)\n",
    "    respData = resp.read()\n",
    "    soup = BeautifulSoup(str(respData))\n",
    "    k=soup.find(\"div\", {\"class\": \"_G1d _wle _xle\"})\n",
    "    value=k.get_text()\n",
    "    print(\"from google :\",value)\n",
    "    return value\n",
    "\n",
    "def find_between_strings( s, first, last ):\n",
    "    try:\n",
    "        start = s.index( first ) + len( first )\n",
    "        end = s.index( last, start )\n",
    "        return s[start:end]\n",
    "    except ValueError:\n",
    "        return \"\"\n",
    "\n",
    "\n",
    "def extract_dic_para(file):\n",
    "    string=google_output_string(file)\n",
    "    dic={}\n",
    "    if 'Artists:' in string:\n",
    "        dic[\"Artists\"]=find_between_strings(string,\"Artists:\",\"Movie:\").strip()\n",
    "    elif 'Artist' in string:\n",
    "        dic[\"Artists\"]=find_between_strings(string,\"Artist:\",\"Movie:\").strip()\n",
    "    dic[\"Movie\"]=find_between_strings(string,\"Movie:\",\"Released:\").strip()\n",
    "    temp=string.index(\"Released: \")+len(\"Released: \")\n",
    "    dic[\"Released\"]=string[temp:temp+4]\n",
    "    print(\"parameter extracted :\",dic)\n",
    "    return dic\n",
    "\n",
    "\n",
    "        "
   ]
  },
  {
   "cell_type": "code",
   "execution_count": 170,
   "metadata": {
    "collapsed": false
   },
   "outputs": [],
   "source": [
    "def list_of_files_in_dir(path=dir_path):\n",
    "    l=[]\n",
    "    for file in os.listdir(path):\n",
    "        if file.endswith(\".mp3\"):\n",
    "            l.append(file)\n",
    "    print(\"total_number_of_files :\",len(l))\n",
    "    return l\n",
    "\n",
    "def edit_details_of_file(file):\n",
    "    global change_count\n",
    "    global change_file\n",
    "    audio = EasyID3(dir_path+file)\n",
    "    print(dir_path+file)\n",
    "    print(\"type\",type(audio))\n",
    "    dic=extract_dic_para(file)\n",
    "    print(dic)\n",
    "    print(audio[\"artist\"],audio[\"album\"],audio[\"date\"])\n",
    "    audio[\"artist\"] = unicode(dic[\"Artists\"], \"ascii\")\n",
    "    audio[\"album\"] = unicode(dic[\"Movie\"], \"ascii\")\n",
    "    audio[\"date\"] = unicode(dic[\"Released\"], \"ascii\")\n",
    "    print(audio[\"artist\"],audio[\"album\"],audio[\"date\"])\n",
    "    audio.save()\n",
    "    change_count=change_count+1\n",
    "    change_files.append(file)\n",
    "    \n",
    "def apply_on_directory():\n",
    "    files=list_of_files_in_dir()\n",
    "    for file in files:\n",
    "        try:\n",
    "            print(file)\n",
    "            edit_details_of_file(file)\n",
    "        except Exception as e:\n",
    "            print(e)\n",
    "            print(type(e))\n",
    "            continue"
   ]
  },
  {
   "cell_type": "code",
   "execution_count": 172,
   "metadata": {
    "collapsed": false
   },
   "outputs": [
    {
     "name": "stdout",
     "output_type": "stream",
     "text": [
      "total_number_of_files : 2\n",
      "Aao Milo Chale.mp3\n",
      "/home/naisargee/Music/W300i/practice/Aao Milo Chale.mp3\n",
      "type <class 'mutagen.easyid3.EasyID3'>\n",
      "search Term : Aao Milo Chale \n",
      "from google : Artists: Shaan, Sultan KhanMovie: Jab We MetReleased: 2007\n",
      "parameter extracted : {'Movie': 'Jab We Met', 'Artists': 'Shaan, Sultan Khan', 'Released': '2007'}\n",
      "{'Movie': 'Jab We Met', 'Artists': 'Shaan, Sultan Khan', 'Released': '2007'}\n",
      "['www.Songs.PK'] ['Jab We Met'] ['2007']\n",
      "name 'unicode' is not defined\n",
      "<class 'NameError'>\n",
      "AAOGE JAB TUM.mp3\n",
      "/home/naisargee/Music/W300i/practice/AAOGE JAB TUM.mp3\n",
      "type <class 'mutagen.easyid3.EasyID3'>\n",
      "search Term : AAOGE JAB TUM \n",
      "from google : Artist: Rashid KhanMovie: Jab We MetReleased: 2007\n",
      "parameter extracted : {'Movie': 'Jab We Met', 'Artists': 'Rashid Khan', 'Released': '2007'}\n",
      "{'Movie': 'Jab We Met', 'Artists': 'Rashid Khan', 'Released': '2007'}\n",
      "'TPE1'\n",
      "<class 'KeyError'>\n"
     ]
    }
   ],
   "source": [
    "change_count=0\n",
    "apply_on_directory()"
   ]
  },
  {
   "cell_type": "code",
   "execution_count": null,
   "metadata": {
    "collapsed": false
   },
   "outputs": [],
   "source": [
    "print(change_count)\n",
    "print(change_files)"
   ]
  },
  {
   "cell_type": "code",
   "execution_count": null,
   "metadata": {
    "collapsed": true
   },
   "outputs": [],
   "source": []
  }
 ],
 "metadata": {
  "kernelspec": {
   "display_name": "Python 3",
   "language": "python",
   "name": "python3"
  },
  "language_info": {
   "codemirror_mode": {
    "name": "ipython",
    "version": 3
   },
   "file_extension": ".py",
   "mimetype": "text/x-python",
   "name": "python",
   "nbconvert_exporter": "python",
   "pygments_lexer": "ipython3",
   "version": "3.4.3"
  }
 },
 "nbformat": 4,
 "nbformat_minor": 0
}
