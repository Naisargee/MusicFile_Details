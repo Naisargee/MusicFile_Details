{
 "cells": [
  {
   "cell_type": "code",
   "execution_count": 76,
   "metadata": {
    "collapsed": false
   },
   "outputs": [],
   "source": [
    "from bs4 import BeautifulSoup\n",
    "import urllib\n",
    "from urllib.request import urlopen\n"
   ]
  },
  {
   "cell_type": "code",
   "execution_count": 126,
   "metadata": {
    "collapsed": false
   },
   "outputs": [],
   "source": [
    "song=\"TANHA TANHA YANHA PE JINA\"\n",
    "url = 'https://www.google.com/search?q='+song.replace(\" \",\"+\")\n",
    "headers = {}\n",
    "headers['User-Agent'] = \"Mozilla/5.0 (X11; Linux i686) AppleWebKit/537.17 (KHTML, like Gecko) Chrome/24.0.1312.27 Safari/537.17\"\n",
    "req = urllib.request.Request(url, headers = headers)\n",
    "resp = urllib.request.urlopen(req)\n",
    "respData = resp.read()\n",
    "saveFile = open('withHeaders.html','w')\n",
    "saveFile.write(str(respData))\n",
    "saveFile.close()\n"
   ]
  },
  {
   "cell_type": "code",
   "execution_count": 127,
   "metadata": {
    "collapsed": false
   },
   "outputs": [],
   "source": [
    "soup = BeautifulSoup(str(respData))"
   ]
  },
  {
   "cell_type": "code",
   "execution_count": 128,
   "metadata": {
    "collapsed": false
   },
   "outputs": [
    {
     "data": {
      "text/plain": [
       "<div class=\"_G1d _wle _xle\"><div class=\"_RBg\"><div class=\"mod\" data-md=\"30\" data-ved=\"0ahUKEwjfhLu9srnNAhVJvo8KHa4uCnkQkCkIJCgBMAE\" style=\"clear:none\"><!--m--><!--n--></div><div class=\"mod\" data-md=\"1001\" data-ved=\"0ahUKEwjfhLu9srnNAhVJvo8KHa4uCnkQkCkIJSgCMAI\" style=\"clear:none\"><!--m--><div class=\"_eFb\"><div class=\"_mr kno-fb-ctx\" data-ved=\"0ahUKEwjfhLu9srnNAhVJvo8KHa4uCnkQyxMIJigAMAI\"><span class=\"_xdb\"><a class=\"fl\" data-ved=\"0ahUKEwjfhLu9srnNAhVJvo8KHa4uCnkQ6BMIJygAMAI\" href=\"/search?q=asha+bhosle+tanha+tanha+yahan+pe+jeena+artist&amp;stick=H4sIAAAAAAAAAOPgE-LUz9U3KEkqTCnQkspOttLPLS3OTNYvSk3OL0rJzEu3SiwqySwuAQCjfUxmKQAAAA&amp;sa=X&amp;ved=0ahUKEwjfhLu9srnNAhVJvo8KHa4uCnkQ6BMIJygAMAI\">Artist</a>: </span><span class=\"_Xbe kno-fv\"><a class=\"fl\" data-ved=\"0ahUKEwjfhLu9srnNAhVJvo8KHa4uCnkQmxMIKCgBMAI\" href=\"/search?q=Asha+Bhosle&amp;stick=H4sIAAAAAAAAAOPgE-LUz9U3KEkqTClQAjMNcyyMzbWkspOt9HNLizOT9YtSk_OLUjLz0q0Si0oyi0sAdWc0HDQAAAA&amp;sa=X&amp;ved=0ahUKEwjfhLu9srnNAhVJvo8KHa4uCnkQmxMIKCgBMAI\">Asha Bhosle</a></span></div></div><!--n--></div><div class=\"mod\" data-md=\"1001\" data-ved=\"0ahUKEwjfhLu9srnNAhVJvo8KHa4uCnkQkCkIKSgDMAM\" style=\"clear:none\"><!--m--><div class=\"_eFb\"><div class=\"_mr kno-fb-ctx\" data-ved=\"0ahUKEwjfhLu9srnNAhVJvo8KHa4uCnkQyxMIKigAMAM\"><span class=\"_xdb\"><a class=\"fl\" data-ved=\"0ahUKEwjfhLu9srnNAhVJvo8KHa4uCnkQ6BMIKygAMAM\" href=\"/search?q=asha+bhosle+tanha+tanha+yahan+pe+jeena+movie&amp;stick=H4sIAAAAAAAAAOPgE-LUz9U3KEkqTCnQUshOttLPLS3OTNYvSk3OL0rJzEu3SsvMyVUACybmAAACv0lqLwAAAA&amp;sa=X&amp;ved=0ahUKEwjfhLu9srnNAhVJvo8KHa4uCnkQ6BMIKygAMAM\">Movie</a>: </span><span class=\"_Xbe kno-fv\"><a class=\"fl\" data-ved=\"0ahUKEwjfhLu9srnNAhVJvo8KHa4uCnkQmxMILCgBMAM\" href=\"/search?q=Rangeela&amp;stick=H4sIAAAAAAAAAOPgE-LUz9U3KEkqTClQ4gIxU7KSDCzNtBSyk630c0uLM5P1i1KT84tSMvPSrdIyc3IVwIKJOQCHV8NKOwAAAA&amp;sa=X&amp;ved=0ahUKEwjfhLu9srnNAhVJvo8KHa4uCnkQmxMILCgBMAM\">Rangeela</a></span></div></div><!--n--></div><div class=\"mod\" data-md=\"1001\" data-ved=\"0ahUKEwjfhLu9srnNAhVJvo8KHa4uCnkQkCkILSgEMAQ\" style=\"clear:none\"><!--m--><div class=\"_eFb\"><div class=\"_mr kno-fb-ctx\" data-ved=\"0ahUKEwjfhLu9srnNAhVJvo8KHa4uCnkQyxMILigAMAQ\"><span class=\"_xdb\"><a class=\"fl\" data-ved=\"0ahUKEwjfhLu9srnNAhVJvo8KHa4uCnkQ6BMILygAMAQ\" href=\"/search?q=asha+bhosle+tanha+tanha+yahan+pe+jeena+released&amp;stick=H4sIAAAAAAAAAOPgE-LUz9U3KEkqTCnQUshOttLPLS3OTNYvSk3OL0rJzEu3KkrNSU0sTlVISSxJBQA9maHFLwAAAA&amp;sa=X&amp;ved=0ahUKEwjfhLu9srnNAhVJvo8KHa4uCnkQ6BMILygAMAQ\">Released</a>: </span><span class=\"_Xbe kno-fv\">1995</span></div></div><!--n--></div><div class=\"mod\" data-md=\"1001\" data-ved=\"0ahUKEwjfhLu9srnNAhVJvo8KHa4uCnkQkCkIMCgFMAU\" style=\"clear:none\"><!--m--><div class=\"_eFb\"><div class=\"_mr kno-fb-ctx\" data-ved=\"0ahUKEwjfhLu9srnNAhVJvo8KHa4uCnkQyxMIMSgAMAU\"><span class=\"_xdb\"><a class=\"fl\" data-ved=\"0ahUKEwjfhLu9srnNAhVJvo8KHa4uCnkQ6BMIMigAMAU\" href=\"/search?q=asha+bhosle+tanha+tanha+yahan+pe+jeena+nominations&amp;stick=H4sIAAAAAAAAAOPgE-LUz9U3KEkqTCnQks9OttLPLS3OTNYvSk3OL0rJzEu3ysvPzcxLLMnMzysGALm9240uAAAA&amp;sa=X&amp;ved=0ahUKEwjfhLu9srnNAhVJvo8KHa4uCnkQ6BMIMigAMAU\">Nominations</a>: </span><span class=\"_Xbe kno-fv\"><a class=\"fl\" data-ved=\"0ahUKEwjfhLu9srnNAhVJvo8KHa4uCnkQmxMIMygBMAU\" href=\"/search?q=Filmfare+Award+for+Best+Lyricist&amp;stick=H4sIAAAAAAAAAOPgE-LUz9U3KEkqTClQ4gIxzYvN4gsytOSzk630c0uLM5P1i1KT84tSMvPSrfLyczPzEksy8_OKAVFssuY6AAAA&amp;sa=X&amp;ved=0ahUKEwjfhLu9srnNAhVJvo8KHa4uCnkQmxMIMygBMAU\">Filmfare Award for Best Lyricist</a></span></div></div><!--n--></div><div class=\"mod\" data-md=\"1001\" data-ved=\"0ahUKEwjfhLu9srnNAhVJvo8KHa4uCnkQkCkINCgGMAY\" style=\"clear:none\"><!--m--><div class=\"_eFb\"><div class=\"_mr kno-fb-ctx\" data-ved=\"0ahUKEwjfhLu9srnNAhVJvo8KHa4uCnkQyxMINSgAMAY\"><span class=\"_xdb\"><a class=\"fl\" data-ved=\"0ahUKEwjfhLu9srnNAhVJvo8KHa4uCnkQ6BMINigAMAY\" href=\"/search?q=asha+bhosle+tanha+tanha+yahan+pe+jeena+awards&amp;stick=H4sIAAAAAAAAAOPgE-LUz9U3KEkqTCnQkspOttLPLS3OTNYvSk3OL0rJzEu3SixPLEopBgDaCP9CKQAAAA&amp;sa=X&amp;ved=0ahUKEwjfhLu9srnNAhVJvo8KHa4uCnkQ6BMINigAMAY\">Awards</a>: </span><span class=\"_Xbe kno-fv\"><a class=\"fl\" data-ved=\"0ahUKEwjfhLu9srnNAhVJvo8KHa4uCnkQmxMINygBMAY\" href=\"/search?q=Filmfare+Special+Award&amp;stick=H4sIAAAAAAAAAOPgE-LUz9U3KEkqTClQAjMt0tIKTLSkspOt9HNLizOT9YtSk_OLUjLz0q0SyxOLUooB5gMg8DQAAAA&amp;sa=X&amp;ved=0ahUKEwjfhLu9srnNAhVJvo8KHa4uCnkQmxMINygBMAY\">Filmfare Special Jury Award</a></span></div></div><!--n--></div></div></div>"
      ]
     },
     "execution_count": 128,
     "metadata": {},
     "output_type": "execute_result"
    }
   ],
   "source": [
    "k=soup.find(\"div\", {\"class\": \"_G1d _wle _xle\"})\n",
    "k"
   ]
  },
  {
   "cell_type": "code",
   "execution_count": 129,
   "metadata": {
    "collapsed": false
   },
   "outputs": [
    {
     "data": {
      "text/plain": [
       "'Artist: Asha BhosleMovie: RangeelaReleased: 1995Nominations: Filmfare Award for Best LyricistAwards: Filmfare Special Jury Award'"
      ]
     },
     "execution_count": 129,
     "metadata": {},
     "output_type": "execute_result"
    }
   ],
   "source": [
    "value=k.get_text()\n",
    "value"
   ]
  },
  {
   "cell_type": "code",
   "execution_count": 130,
   "metadata": {
    "collapsed": true
   },
   "outputs": [],
   "source": [
    "def find_between( s, first, last ):\n",
    "    try:\n",
    "        start = s.index( first ) + len( first )\n",
    "        end = s.index( last, start )\n",
    "        return s[start:end]\n",
    "    except ValueError:\n",
    "        return \"\"\n"
   ]
  },
  {
   "cell_type": "code",
   "execution_count": 134,
   "metadata": {
    "collapsed": false
   },
   "outputs": [
    {
     "name": "stdout",
     "output_type": "stream",
     "text": [
      "\n"
     ]
    },
    {
     "data": {
      "text/plain": [
       "'1995'"
      ]
     },
     "execution_count": 134,
     "metadata": {},
     "output_type": "execute_result"
    }
   ],
   "source": [
    "print(find_between(value,\"Artists\",\"Movie:\").strip())\n",
    "temp=value.index(\"Released: \")+len(\"Released: \")\n",
    "value[temp:temp+4]\n",
    "        "
   ]
  },
  {
   "cell_type": "code",
   "execution_count": null,
   "metadata": {
    "collapsed": true
   },
   "outputs": [],
   "source": []
  }
 ],
 "metadata": {
  "kernelspec": {
   "display_name": "Python 3",
   "language": "python",
   "name": "python3"
  },
  "language_info": {
   "codemirror_mode": {
    "name": "ipython",
    "version": 3
   },
   "file_extension": ".py",
   "mimetype": "text/x-python",
   "name": "python",
   "nbconvert_exporter": "python",
   "pygments_lexer": "ipython3",
   "version": "3.4.3"
  }
 },
 "nbformat": 4,
 "nbformat_minor": 0
}
